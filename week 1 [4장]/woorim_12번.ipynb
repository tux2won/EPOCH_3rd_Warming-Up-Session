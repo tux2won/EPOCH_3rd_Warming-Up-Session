{
  "nbformat": 4,
  "nbformat_minor": 0,
  "metadata": {
    "colab": {
      "provenance": []
    },
    "kernelspec": {
      "name": "python3",
      "display_name": "Python 3"
    },
    "language_info": {
      "name": "python"
    }
  },
  "cells": [
    {
      "cell_type": "markdown",
      "source": [
        "# 4장 모델 훈련\n",
        "## EPOCH 3기 한우림"
      ],
      "metadata": {
        "id": "d6nDSjZra7ku"
      }
    },
    {
      "cell_type": "markdown",
      "source": [
        "### 4.2.1 배치 경사 하강법(batch gradient descent)\n",
        "- 편도함수: 각 모델 파라미터 $\\theta_j$가 조금 변경될 때 비용 함수가 얼마나 바뀌는지 계산해야 함\n",
        "- 배치 경사 하강법: 매 경사 하강법 스텝에서 전체 훈련 세트 $X$에 대해 계산하는 알고리즘\n",
        "\n"
      ],
      "metadata": {
        "id": "Q4vaIU_abhTu"
      }
    },
    {
      "cell_type": "code",
      "source": [
        "# 4.1.1 정규방정식 공식 테스트를 위해 선형처럼 보이는 데이터 생성\n",
        "\n",
        "import numpy as np\n",
        "\n",
        "X = 2*np.random.rand(100,1)\n",
        "y = 4+3*X+np.random.randn(100,1)"
      ],
      "metadata": {
        "id": "EnCjup2LdLgu"
      },
      "execution_count": null,
      "outputs": []
    },
    {
      "cell_type": "code",
      "source": [
        "X_b = np.c_[np.ones((100,1)), X]  # 모든 샘플에 x0=1 을 추가"
      ],
      "metadata": {
        "id": "kRgfmnbidqPO"
      },
      "execution_count": null,
      "outputs": []
    },
    {
      "cell_type": "code",
      "execution_count": null,
      "metadata": {
        "id": "ISAMYFapaDDt"
      },
      "outputs": [],
      "source": [
        "# 4.2.1 배치 경사 하강법 알고리즘 구현\n",
        "\n",
        "eta = 0.1\n",
        "n_iterations = 1000\n",
        "m = 100\n",
        "\n",
        "theta = np.random.randn(2,1) # 무작위 초기화\n",
        "\n",
        "for iteration in range(n_iterations):\n",
        "  gradients = 2/m*X_b.T.dot(X_b.dot(theta) - y)\n",
        "  theta = theta - eta*gradients"
      ]
    },
    {
      "cell_type": "markdown",
      "source": [
        "### 4.6.4 소프트맥스 회귀\n",
        "**로지스틱 회귀 모델을 여러 개의 이진 분류기를 훈련시켜 연결하지 않고 직접 다중 클래스를 지원하도록 일반화**\n"
      ],
      "metadata": {
        "id": "i9sbV_HpsZdF"
      }
    },
    {
      "cell_type": "code",
      "source": [
        "# 4.6.4 소프트맥스 회귀 구현\n",
        "\n",
        "from sklearn import datasets\n",
        "iris = datasets.load_iris()\n",
        "\n",
        "X = iris[\"data\"][:, (2,3)]  # 꽃잎 길이, 너비\n",
        "y = iris[\"target\"]"
      ],
      "metadata": {
        "id": "xDyGRzI2eOMN"
      },
      "execution_count": null,
      "outputs": []
    },
    {
      "cell_type": "markdown",
      "source": [
        "### 12번 연습문제\n",
        "12. 조기 종료를 사용한 배치 경사 하강법으로 소프트맥스 회귀를 구현 (사이킷런 사용 x)"
      ],
      "metadata": {
        "id": "HuuJo7pq8Q6s"
      }
    },
    {
      "cell_type": "code",
      "source": [
        "# import libraries\n",
        "import numpy as np\n",
        "import matplotlib.pyplot as plt\n",
        "from sklearn.datasets import load_iris"
      ],
      "metadata": {
        "id": "pLr31YKB8Vrc"
      },
      "execution_count": null,
      "outputs": []
    },
    {
      "cell_type": "code",
      "source": [
        "# 사이킷런을 사용하지 않아야 하므로 직접 함수를 정의함\n",
        "\n",
        "# softmax 함수 생성\n",
        "def softmax(z):\n",
        "    exp = np.exp(z - np.max(z, axis=1, keepdims=True)) # keepdims: 차원 유지하여 합계를 구함\n",
        "    return exp / np.sum(exp, axis=1, keepdims=True)\n",
        "\n",
        "\n",
        "# cross entropy func\n",
        "def compute_loss(y_true, y_pred):\n",
        "    m = y_true.shape[0]\n",
        "    return -np.sum(y_true * np.log(y_pred + 1e-9)) / m  # 1e-9: 아주 작은 값을 추가하여 로그 값이 음수가 나오는 것을 방지\n",
        "\n",
        "\n",
        "# gradient 계산\n",
        "def compute_gradient(X, y_true, y_pred):\n",
        "    m = X.shape[0]\n",
        "    return (1 / m) * X.T @ (y_pred - y_true)\n",
        "\n",
        "\n",
        "# 클래스를 원-핫 인코딩하는 함수 정의\n",
        "def one_hot_encoder(y, num_classes):\n",
        "    m = len(y)\n",
        "    one_hot = np.zeros((m, num_classes))\n",
        "    one_hot[np.arange(m), y.flatten()] = 1\n",
        "    return one_hot\n",
        "\n",
        "\n",
        "# 정규화\n",
        "def standardize(X):\n",
        "    return (X - np.mean(X, axis=0)) / np.std(X, axis=0)\n",
        "\n",
        "\n",
        "# 소프트맥스 회귀 함수 생성\n",
        "def softmax_regression(X_train, y_train, X_val, y_val, alpha=0.1, epochs=1000, tolerance=1e-4):\n",
        "    n_features, n_classes = X_train.shape[1], y_train.shape[1]\n",
        "    W = np.random.randn(n_features, n_classes) * 0.01\n",
        "    best_loss = float('inf')\n",
        "    patience, patience_counter = 10, 0\n",
        "    loss_history, val_loss_history = [], []\n",
        "\n",
        "    for epoch in range(epochs):\n",
        "        y_pred = softmax(X_train @ W)\n",
        "        loss = compute_loss(y_train, y_pred)\n",
        "        y_val_pred = softmax(X_val @ W)\n",
        "        val_loss = compute_loss(y_val, y_val_pred)\n",
        "        W -= alpha * compute_gradient(X_train, y_train, y_pred)\n",
        "\n",
        "        loss_history.append(loss)\n",
        "        val_loss_history.append(val_loss)\n",
        "\n",
        "        if val_loss < best_loss:\n",
        "            best_loss, patience_counter = val_loss, 0\n",
        "        else:\n",
        "            patience_counter += 1\n",
        "            if patience_counter >= patience:\n",
        "                print(f\"조기 종료: epoch {epoch+1}\")\n",
        "                break\n",
        "\n",
        "        if epoch % 100 == 0:\n",
        "            print(f\"Epoch {epoch}: Train Loss = {loss:}, Val Loss = {val_loss:}\")\n",
        "\n",
        "    return W, loss_history, val_loss_history"
      ],
      "metadata": {
        "id": "ud3HSzuAul09"
      },
      "execution_count": null,
      "outputs": []
    },
    {
      "cell_type": "code",
      "source": [
        "# 데이터 로드 및 전처리\n",
        "iris = load_iris()\n",
        "X, y = iris.data, iris.target.reshape(-1, 1)\n",
        "y_one_hot = one_hot_encoder(y, num_classes=3)\n",
        "X_scaled = standardize(X)\n",
        "\n",
        "# train, validation 분리\n",
        "split_idx = int(0.8 * len(X_scaled))\n",
        "X_train, X_val = X_scaled[:split_idx], X_scaled[split_idx:]\n",
        "y_train, y_val = y_one_hot[:split_idx], y_one_hot[split_idx:]\n",
        "\n",
        "# 모델 훈련\n",
        "W, loss_history, val_loss_history = softmax_regression(X_train, y_train, X_val, y_val, alpha=0.1, epochs=1000)"
      ],
      "metadata": {
        "colab": {
          "base_uri": "https://localhost:8080/"
        },
        "id": "jPVEHyiw7sPo",
        "outputId": "852b7e24-7110-4dc7-8254-33e060831f85"
      },
      "execution_count": null,
      "outputs": [
        {
          "output_type": "stream",
          "name": "stdout",
          "text": [
            "Epoch 0: Train Loss = 1.1074655095678385, Val Loss = 1.0903276705600442\n",
            "Epoch 100: Train Loss = 0.39582129417575085, Val Loss = 0.4725421984989708\n",
            "Epoch 200: Train Loss = 0.3674458028112379, Val Loss = 0.43059635703164617\n",
            "Epoch 300: Train Loss = 0.3545836992463793, Val Loss = 0.40833969367428435\n",
            "Epoch 400: Train Loss = 0.34688139793197315, Val Loss = 0.39442696810936095\n",
            "Epoch 500: Train Loss = 0.34165837553221023, Val Loss = 0.38526130709812395\n",
            "Epoch 600: Train Loss = 0.3378119110092644, Val Loss = 0.37901546589651514\n",
            "Epoch 700: Train Loss = 0.3348052537385372, Val Loss = 0.3746596852122736\n",
            "Epoch 800: Train Loss = 0.3323504762364234, Val Loss = 0.37157787176031803\n",
            "Epoch 900: Train Loss = 0.33028143664806403, Val Loss = 0.36938294352442\n"
          ]
        }
      ]
    },
    {
      "cell_type": "code",
      "source": [
        "# 그래프\n",
        "plt.plot(loss_history, label='Train Loss')\n",
        "plt.plot(val_loss_history, label='Validation Loss')\n",
        "plt.xlabel('Epochs')\n",
        "plt.ylabel('Loss')\n",
        "plt.legend()\n",
        "plt.show()"
      ],
      "metadata": {
        "colab": {
          "base_uri": "https://localhost:8080/",
          "height": 449
        },
        "id": "77mZnaZ67nw8",
        "outputId": "d9e1075c-f078-4d6c-a85a-bcbe1b08599a"
      },
      "execution_count": null,
      "outputs": [
        {
          "output_type": "display_data",
          "data": {
            "text/plain": [
              "<Figure size 640x480 with 1 Axes>"
            ],
            "image/png": "[encoded data removed]"
          },
          "metadata": {}
        }
      ]
    }
  ]
}