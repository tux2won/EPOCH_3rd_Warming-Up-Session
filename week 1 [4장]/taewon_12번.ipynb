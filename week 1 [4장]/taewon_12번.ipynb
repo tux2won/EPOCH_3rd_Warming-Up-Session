{
  "nbformat": 4,
  "nbformat_minor": 0,
  "metadata": {
    "colab": {
      "provenance": []
    },
    "kernelspec": {
      "name": "python3",
      "display_name": "Python 3"
    },
    "language_info": {
      "name": "python"
    }
  },
  "cells": [
    {
      "cell_type": "markdown",
      "source": [
        "# 12. 사이킷런을 사용하지 않고 넘파이만 사용하여 조기 종료를 사용한 배치 경사 하강법으로 소프트맥스 회귀를 구현해보세요. 이를 붓꽃 데이터셋 같은 분류 작업에 사용해보세요."
      ],
      "metadata": {
        "id": "vFuZkTQzC2pz"
      }
    },
    {
      "cell_type": "markdown",
      "source": [
        "- numpy만 사용해야 함 (사이킷런 사용X)\n",
        "- 소프트맥스 회귀\n",
        "- 근데 이제 조기 종료를 사용한 배치 경사 하강법을 곁들인.\n",
        "- 분류 작업에 활용해보기"
      ],
      "metadata": {
        "id": "hr8y51tGCmQP"
      }
    },
    {
      "cell_type": "markdown",
      "source": [
        "## 1. 데이터셋 세팅\n",
        "\n",
        "iris 데이터셋을 재사용하자"
      ],
      "metadata": {
        "id": "HLf9YVgVEp2u"
      }
    },
    {
      "cell_type": "code",
      "source": [
        "from sklearn import datasets\n",
        "import pandas as pd\n",
        "iris = datasets.load_iris()\n",
        "list(iris.keys())"
      ],
      "metadata": {
        "colab": {
          "base_uri": "https://localhost:8080/"
        },
        "id": "qFZYtbwQE17Y",
        "outputId": "a0bd7ba3-893c-485e-cfcd-93d59f0fa070"
      },
      "execution_count": null,
      "outputs": [
        {
          "output_type": "execute_result",
          "data": {
            "text/plain": [
              "['data',\n",
              " 'target',\n",
              " 'frame',\n",
              " 'target_names',\n",
              " 'DESCR',\n",
              " 'feature_names',\n",
              " 'filename',\n",
              " 'data_module']"
            ]
          },
          "metadata": {},
          "execution_count": 2
        }
      ]
    },
    {
      "cell_type": "code",
      "source": [
        "import numpy as np"
      ],
      "metadata": {
        "id": "oCwQmAq0FB_G"
      },
      "execution_count": null,
      "outputs": []
    },
    {
      "cell_type": "code",
      "execution_count": null,
      "metadata": {
        "id": "HJaky_KfCkMh"
      },
      "outputs": [],
      "source": [
        "X = iris[\"data\"][:, (2, 3)]  # 꽃잎 길이, 꽃잎 넓이\n",
        "y = iris[\"target\"]"
      ]
    },
    {
      "cell_type": "markdown",
      "source": [
        "아래 코드처럼 X 샘플 별로 [꽃잎 길이, 꽃잎 넓이] 특징만 잘출력되고 있음"
      ],
      "metadata": {
        "id": "NXMNIEyeJi_Y"
      }
    },
    {
      "cell_type": "code",
      "source": [
        "X[:5]"
      ],
      "metadata": {
        "colab": {
          "base_uri": "https://localhost:8080/"
        },
        "id": "LXs2lr-HJiUs",
        "outputId": "93a34a17-c412-4424-f466-5251edd98697"
      },
      "execution_count": null,
      "outputs": [
        {
          "output_type": "execute_result",
          "data": {
            "text/plain": [
              "array([[1.4, 0.2],\n",
              "       [1.4, 0.2],\n",
              "       [1.3, 0.2],\n",
              "       [1.5, 0.2],\n",
              "       [1.4, 0.2]])"
            ]
          },
          "metadata": {},
          "execution_count": 25
        }
      ]
    },
    {
      "cell_type": "code",
      "source": [
        "y"
      ],
      "metadata": {
        "colab": {
          "base_uri": "https://localhost:8080/"
        },
        "id": "UfQqm6kdJtx0",
        "outputId": "c7bb7ca9-687e-482d-9b7a-54c53845d1a3"
      },
      "execution_count": null,
      "outputs": [
        {
          "output_type": "execute_result",
          "data": {
            "text/plain": [
              "array([0, 0, 0, 0, 0, 0, 0, 0, 0, 0, 0, 0, 0, 0, 0, 0, 0, 0, 0, 0, 0, 0,\n",
              "       0, 0, 0, 0, 0, 0, 0, 0, 0, 0, 0, 0, 0, 0, 0, 0, 0, 0, 0, 0, 0, 0,\n",
              "       0, 0, 0, 0, 0, 0, 1, 1, 1, 1, 1, 1, 1, 1, 1, 1, 1, 1, 1, 1, 1, 1,\n",
              "       1, 1, 1, 1, 1, 1, 1, 1, 1, 1, 1, 1, 1, 1, 1, 1, 1, 1, 1, 1, 1, 1,\n",
              "       1, 1, 1, 1, 1, 1, 1, 1, 1, 1, 1, 1, 2, 2, 2, 2, 2, 2, 2, 2, 2, 2,\n",
              "       2, 2, 2, 2, 2, 2, 2, 2, 2, 2, 2, 2, 2, 2, 2, 2, 2, 2, 2, 2, 2, 2,\n",
              "       2, 2, 2, 2, 2, 2, 2, 2, 2, 2, 2, 2, 2, 2, 2, 2, 2, 2])"
            ]
          },
          "metadata": {},
          "execution_count": 30
        }
      ]
    },
    {
      "cell_type": "markdown",
      "source": [
        "**데이터에 편향을 추가해주도록 한다.**\n",
        "편향이 없으면?\n",
        "\n",
        "\n",
        "\n",
        "*   만약 편향을 추가하지 않으면, 모델의 예측 값은 항상 원점을 지나가야 한다\n",
        "*   𝑥=0일 때 항상 𝑦=0\n",
        "*   하지만 실제 데이터에서는 그런 경우가 많지 않음.\n",
        "*   e.g. 예시로, 키와 몸무게의 관계를 예측할 때, 키가 0cm일 때 몸무게도 0kg이어야 할\n"
      ],
      "metadata": {
        "id": "azxMxPKbFEed"
      }
    },
    {
      "cell_type": "code",
      "source": [
        "X_with_bias = np.c_[np.ones(len(X)), X]"
      ],
      "metadata": {
        "id": "7FrCST6SC2C7"
      },
      "execution_count": null,
      "outputs": []
    },
    {
      "cell_type": "markdown",
      "source": [
        "\n",
        "*   np_c[]: 어레이를 좌우로 이어붙이기\n",
        "*   np.ones(): 1로 구성된 어레이 생성. 인자는 생성되는 어레이 모양(shape)"
      ],
      "metadata": {
        "id": "16wIj2LOJXQh"
      }
    },
    {
      "cell_type": "code",
      "source": [
        "X_with_bias[:5]"
      ],
      "metadata": {
        "colab": {
          "base_uri": "https://localhost:8080/"
        },
        "id": "QDRw0WU7KdOr",
        "outputId": "773b6452-be07-4247-fbb1-fbe61e6b942c"
      },
      "execution_count": null,
      "outputs": [
        {
          "output_type": "execute_result",
          "data": {
            "text/plain": [
              "array([[1. , 1.4, 0.2],\n",
              "       [1. , 1.4, 0.2],\n",
              "       [1. , 1.3, 0.2],\n",
              "       [1. , 1.5, 0.2],\n",
              "       [1. , 1.4, 0.2]])"
            ]
          },
          "metadata": {},
          "execution_count": 34
        }
      ]
    },
    {
      "cell_type": "markdown",
      "source": [
        "훈련셋, 검증셋, 테스트셋 비율 나누기\n",
        "\n",
        "sklearn에서는 train_split으로 딸칵 가능하지만 직접 해본다.."
      ],
      "metadata": {
        "id": "Xq0CvEeMKzLa"
      }
    },
    {
      "cell_type": "code",
      "source": [
        "test_ratio = 0.2  # 테스트셋 - 20%\n",
        "validation_ratio = 0.2   # 검증셋 20%\n",
        "\n",
        "total_size = len(X_with_bias) # 전체 입력 데이터셋 크기\n",
        "print(total_size)\n",
        "\n",
        "test_size = int(total_size * test_ratio)              # 테스트셋 크기\n",
        "validation_size = int(total_size * validation_ratio)  # 검증셋 크기\n",
        "train_size = total_size - test_size - validation_size # 훈련셋 크기 - 나머지인 60%\n",
        "\n",
        "print(test_size, validation_size, train_size)"
      ],
      "metadata": {
        "colab": {
          "base_uri": "https://localhost:8080/"
        },
        "id": "RfRrwXhCFJFW",
        "outputId": "1e380887-f0eb-4afe-9dd5-fa79748d6be2"
      },
      "execution_count": null,
      "outputs": [
        {
          "output_type": "stream",
          "name": "stdout",
          "text": [
            "150\n",
            "30 30 90\n"
          ]
        }
      ]
    },
    {
      "cell_type": "markdown",
      "source": [
        "이제 위 크기에 따라 실제 데이터셋을 나누기 전, 전체 데이터셋을 한 번 뒤섞어 주는 작업을 해줘야 한다고."
      ],
      "metadata": {
        "id": "QkkgWLhALV-j"
      }
    },
    {
      "cell_type": "code",
      "source": [
        "np.random.seed(2025)\n",
        "# 난수값 고정하여, 계속해서 랜덤하게 바뀌지는 않도록 설정\n",
        "\n",
        "random_mix = np.random.permutation(total_size)"
      ],
      "metadata": {
        "id": "J9Q2NtjfFGvm"
      },
      "execution_count": null,
      "outputs": []
    },
    {
      "cell_type": "markdown",
      "source": [
        "여기서 permutation은 순열을 의미해요\n",
        "\n",
        "우리가 익히 알고 있는 순열 조합의 그 순열이 맞고,\n",
        "\n",
        "total_size 크기만큼 순열을 뽑아서 일렬로 나열한다는 의미, 그렇게 추출된 순서(인덱스)가 random_mix에 저장"
      ],
      "metadata": {
        "id": "Rxl1jvK7L2cI"
      }
    },
    {
      "cell_type": "code",
      "source": [
        "random_mix"
      ],
      "metadata": {
        "colab": {
          "base_uri": "https://localhost:8080/"
        },
        "id": "AUz3Xi_YLxT4",
        "outputId": "849e530f-bc1a-429b-c0ac-f1f916663ac9"
      },
      "execution_count": null,
      "outputs": [
        {
          "output_type": "execute_result",
          "data": {
            "text/plain": [
              "array([  2, 148, 112, 132,   0, 113,  34,  51, 135,   5, 121,  83,  23,\n",
              "       137,  43,  20,   1,  44,  78, 134,  26,  70,  47,   4,  46,  54,\n",
              "        19, 109, 114, 105, 128, 104,  91,  57, 123,  80, 129, 100,  37,\n",
              "         8,  88,  29,  58,  84,  89, 147,   6,  49,   7,  99, 131, 136,\n",
              "        77, 107,  30,  11,  48, 142,  93,  35,  14,  74,  81, 143,  66,\n",
              "        96,  39,  63, 108,  65, 103,  98,  12,  87,  60, 138,  82,  86,\n",
              "       146,  75,  38,  28,  68, 144, 130,  16,  59, 125, 110,  32,   9,\n",
              "        18,  61,  21,  25,  15,  72,  50, 122,  24,  45, 141, 102,  71,\n",
              "        56, 139, 149, 120,  55,  17, 118, 116,  85,  69, 133,  95,  52,\n",
              "        31,  92, 126, 145,  53,  79, 127,  42,  36, 124, 106,  41,  90,\n",
              "       115,  13,  27,  73,  33, 119,   3, 117,  64, 111, 101,  40,  97,\n",
              "        10,  22, 140,  67,  76,  94,  62])"
            ]
          },
          "metadata": {},
          "execution_count": 41
        }
      ]
    },
    {
      "cell_type": "code",
      "source": [
        "# 훈련셋\n",
        "X_train = X_with_bias[random_mix[:train_size]]\n",
        "y_train = y[random_mix[:train_size]]\n",
        "\n",
        "# 검증셋\n",
        "X_valid = X_with_bias[random_mix[train_size:-test_size]]\n",
        "y_valid = y[random_mix[train_size:-test_size]]\n",
        "\n",
        "# 테스트셋\n",
        "X_test = X_with_bias[random_mix[-test_size:]]\n",
        "y_test = y[random_mix[-test_size:]]"
      ],
      "metadata": {
        "id": "S32XSUEpMfeR"
      },
      "execution_count": null,
      "outputs": []
    },
    {
      "cell_type": "markdown",
      "source": [
        "### 타깃값 바꿔주기\n",
        "\n",
        "현재 타깃 클래스 형태는 이러함\n",
        "\n",
        "`(0, 1, 2)  -> (setosa, versicolur, virginica)`"
      ],
      "metadata": {
        "id": "wFMToAGaHhnt"
      }
    },
    {
      "cell_type": "markdown",
      "source": [
        "\n",
        "소프트맥스 회귀 모델을 훈련시키기 위해 필요한 것은 이 새로운 x샘플이 셋 중 어느 타깃 클래스에 속하는지를 분류하는 것..!\n",
        "\n",
        "즉, 3개의 각 타깃 클래스별로 확률값이 필요하다!\n",
        "\n",
        "e.g. 새로운 샘플 x가..\n",
        "\n",
        "\n",
        "*   `setosa` 꽃일 확률 (0~1)\n",
        "*   `versicolur` 꽃일 확률 (0~1)\n",
        "*   `virginica` 꽃일 확률 (0~1)\n",
        "\n",
        "```\n",
        "[0.9, 0.01, 0.09]\n",
        "```\n",
        "\n",
        "즉, `setosa` 꽃으로 잘분류하려면 위처럼 0번 인덱스의 값이 가장 크고, 나머지는 거의 0에 가깝게 작게 확률값이 나와야 함\n"
      ],
      "metadata": {
        "id": "7yP0X2R_NEZ-"
      }
    },
    {
      "cell_type": "markdown",
      "source": [
        "* 따라서 확률 예측값과 타깃(라벨) 사이의 오차를 이용하여 소프트 맥스 함수로 비용함수를 계산하려면 원-핫 인코딩해서 데이터  모양을 맞춰줘야 함\n",
        "* 아래 사진처럼 소프트 맥스 회귀 자체가 다중 클래스를 분류할 수 있도록 다중 클래스의 확률값을 구하는 함수니까!\n",
        "\n",
        "\n",
        "\n",
        "![image.png](data:image/png;base64,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)"
      ],
      "metadata": {
        "id": "mg03VAHUNiJp"
      }
    },
    {
      "cell_type": "code",
      "source": [
        "def to_one_hot(y):\n",
        "    n_classes = y.max() + 1\n",
        "    m = len(y)\n",
        "    Y_one_hot = np.zeros((m, n_classes))\n",
        "    Y_one_hot[np.arange(m), y] = 1\n",
        "    return Y_one_hot"
      ],
      "metadata": {
        "id": "cTzU-szBHM0T"
      },
      "execution_count": null,
      "outputs": []
    },
    {
      "cell_type": "markdown",
      "source": [
        "그럼 이렇게 기존의 타깃값이었던 `y` 가 예쁘게 [확률값, 확률값, 확률값] 형태로 바뀐다."
      ],
      "metadata": {
        "id": "H2Oz883COuwV"
      }
    },
    {
      "cell_type": "code",
      "source": [
        "to_one_hot(y_train[:10])"
      ],
      "metadata": {
        "colab": {
          "base_uri": "https://localhost:8080/"
        },
        "id": "IU-PNTOYHgyB",
        "outputId": "82b14fa8-77ed-44d2-fd90-39fea634e567"
      },
      "execution_count": null,
      "outputs": [
        {
          "output_type": "execute_result",
          "data": {
            "text/plain": [
              "array([[1., 0., 0.],\n",
              "       [0., 0., 1.],\n",
              "       [0., 0., 1.],\n",
              "       [0., 0., 1.],\n",
              "       [1., 0., 0.],\n",
              "       [0., 0., 1.],\n",
              "       [1., 0., 0.],\n",
              "       [0., 1., 0.],\n",
              "       [0., 0., 1.],\n",
              "       [1., 0., 0.]])"
            ]
          },
          "metadata": {},
          "execution_count": 51
        }
      ]
    },
    {
      "cell_type": "markdown",
      "source": [
        "그럼 동일하게 아까 나누었던 테스트, 검증, 훈련셋에 대해서도 원-핫 인코딩을 쭉 해주면 되겠네"
      ],
      "metadata": {
        "id": "XBtyuSXnHnTi"
      }
    },
    {
      "cell_type": "code",
      "source": [
        "Y_train_one_hot = to_one_hot(y_train)\n",
        "Y_valid_one_hot = to_one_hot(y_valid)\n",
        "Y_test_one_hot = to_one_hot(y_test)"
      ],
      "metadata": {
        "id": "SMtCvdl7HmLq"
      },
      "execution_count": null,
      "outputs": []
    },
    {
      "cell_type": "code",
      "source": [
        "Y_train_one_hot.shape"
      ],
      "metadata": {
        "colab": {
          "base_uri": "https://localhost:8080/"
        },
        "id": "c2e63JWsPHQc",
        "outputId": "e94da56e-0eae-459a-8c2a-b61c7dc551fd"
      },
      "execution_count": null,
      "outputs": [
        {
          "output_type": "execute_result",
          "data": {
            "text/plain": [
              "(90, 3)"
            ]
          },
          "metadata": {},
          "execution_count": 53
        }
      ]
    },
    {
      "cell_type": "markdown",
      "source": [
        "150 중에 90 (=60%) 문제없고"
      ],
      "metadata": {
        "id": "MR9Whim-PIEu"
      }
    },
    {
      "cell_type": "markdown",
      "source": [
        "## 2. 소프트맥스 함수 구현\n",
        "이제 찐으로 x 샘플이 특정 꽃 품종(클래스)에 속할 확률을 계산하기 위해 소프트맥스 점수를 계산해주기만 하면 끝일 듯..? (아마)\n",
        "\n",
        "![image.png](data:image/png;base64,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)\n",
        "\n",
        "\n"
      ],
      "metadata": {
        "id": "SRe6l7TZHzD1"
      }
    },
    {
      "cell_type": "markdown",
      "source": [
        "> 책에 나와있는 소프트맥수 함수 그대로 코드화 해준 것 뿐\n",
        "\n",
        "함수 어떻게 코드화하는지는 구글링 참고했음,,,\n",
        "\n",
        "외우고 다니면 ㅇㅈ\n",
        "\n",
        "* `logits`: 모든 샘플에 대한 소프트맥스 점수로 구성된 (m, K) 모양의 어레이.\n",
        "* `m`은 샘플 수\n",
        "* 반환값은 `s(X)`"
      ],
      "metadata": {
        "id": "AG1xR0VWP7ls"
      }
    },
    {
      "cell_type": "code",
      "source": [
        "def softmax(logits):\n",
        "    exps = np.exp(logits) # 분자\n",
        "    exp_sums = np.sum(exps, axis=1, keepdims=True) # 분모\n",
        "    return exps / exp_sums"
      ],
      "metadata": {
        "id": "gBKPPYY9HuG5"
      },
      "execution_count": null,
      "outputs": []
    },
    {
      "cell_type": "markdown",
      "source": [
        "💡 결론\n",
        "* 소프트맥스는 입력값을 확률로 변환하는 함수\n",
        "* `𝑒𝑧`로 큰 값은 더 커지고, 작은 값은 더 작아지게 함.\n",
        "* 전체 합이 1이 되도록 정규화해서 확률 분포를 생성.\n",
        "* 클래스 분류 문제에서 가장 가능성 높은 클래스를 선택하는 데 유용"
      ],
      "metadata": {
        "id": "Gd7-gXJ6Rev7"
      }
    },
    {
      "cell_type": "markdown",
      "source": [
        "## 3. 모델 훈련\n",
        "\n",
        "\n",
        "\n",
        "> 앞서 작성한 소프트맥스 함수를 활용해 모델 훈련시켜주고 결과\n",
        "\n"
      ],
      "metadata": {
        "id": "nXt4DntlIS_S"
      }
    },
    {
      "cell_type": "markdown",
      "source": [
        "거의 다 한 듯..?\n",
        "입력과 출력의 개수를 정의"
      ],
      "metadata": {
        "id": "cmycVSGjH-ZR"
      }
    },
    {
      "cell_type": "code",
      "source": [
        "n_inputs = X_train.shape[1] # (특성 2개 + 편향 1개 = 3개)\n",
        "n_outputs = len(np.unique(y_train))   # (3개의 붓꽃 클래스), unique로 3개 뽑아주면 되고~"
      ],
      "metadata": {
        "id": "gAo-HUK7H9Ji"
      },
      "execution_count": null,
      "outputs": []
    },
    {
      "cell_type": "markdown",
      "source": [
        "**배치 경사하강법 적용 과정을 구현하기 위해 비용 함수와 비용 함수의 그레이디언트 벡터 정의**\n",
        "\n",
        "```\n",
        "크로스 엔트로피 손실 함수\n",
        "```\n",
        "\n",
        "란?\n",
        "* 모델이 예측한 확률 분포와 실제 정답 분포가 얼마나 다른지를 측정하는 함수!\n",
        "* 값이 작을수록 모델이 잘 예측하고 있는 것!"
      ],
      "metadata": {
        "id": "9B3CsyzNQu9H"
      }
    },
    {
      "cell_type": "code",
      "source": [
        "eta = 0.01 # 학습률\n",
        "n_iterations = 5001 # 에폭\n",
        "m = len(X_train) # 훈련 데이터 개수\n",
        "epsilon = 1e-7\n",
        "\n",
        "Theta = np.random.randn(n_inputs, n_outputs) # 가중치 초기화\n",
        "\n",
        "# 경사 하강법 반복 학습\n",
        "for iteration in range(n_iterations):\n",
        "    logits = X_train.dot(Theta) # 훈련 데이터 X_train에 가중치 Theta를 곱해서 클래스별 점수(로짓, logits)를 계산\n",
        "    Y_proba = softmax(logits) # 이 점수를 아까 위에서 정의했던 소프트맥스 함수로 점수 -> 확률로 변환\n",
        "    if iteration % 500 == 0:\n",
        "        loss = -np.mean(np.sum(Y_train_one_hot * np.log(Y_proba + epsilon), axis=1)) # 크로스 엔트로피 손실 함수 코드화한거임\n",
        "        print(iteration, loss)\n",
        "    error = Y_proba - Y_train_one_hot # 예측값-실제값 = 에러\n",
        "    gradients = 1/m * X_train.T.dot(error) # 경사하강법 적용!, 위 교재 실습에서 했던 구조 그대로 가져옴\n",
        "    Theta = Theta - eta * gradients # 손실이 줄어드는 방향으로 가중치 업데이트"
      ],
      "metadata": {
        "colab": {
          "base_uri": "https://localhost:8080/"
        },
        "id": "McEIciT9IGUs",
        "outputId": "ecc5e50f-61b6-4727-9c87-1a7ed92435c6"
      },
      "execution_count": null,
      "outputs": [
        {
          "output_type": "stream",
          "name": "stdout",
          "text": [
            "0 2.639528567767038\n",
            "500 0.9466849381113658\n",
            "1000 0.7442054562460835\n",
            "1500 0.6373461014015417\n",
            "2000 0.5711703661275321\n",
            "2500 0.5252883022825786\n",
            "3000 0.4909740008756654\n",
            "3500 0.4639304351722579\n",
            "4000 0.4417971516583559\n",
            "4500 0.4231647870862234\n",
            "5000 0.40713573527334457\n"
          ]
        }
      ]
    },
    {
      "cell_type": "markdown",
      "source": [
        "전체 흐름을 다시 보면:\n",
        "\n",
        "1️⃣ 초기 가중치(Theta) 설정\n",
        "2️⃣ 훈련 데이터로 예측값 계산\n",
        "3️⃣ 손실 함수(크로스 엔트로피) 계산\n",
        "4️⃣ 오차(Error) 계산\n",
        "5️⃣ 경사(Gradient) 계산\n",
        "6️⃣ 가중치 업데이트 (경사 하강법 적용)\n",
        "7️⃣ 500번마다 손실값 출력\n",
        "8️⃣ 반복하면서 모델이 점점 최적의 가중치를 찾음\n",
        "\n",
        "결국 이 과정이 끝나면 최적의 Theta 값을 얻게 되고,\n",
        "새로운 입력 데이터에 대해 가장 적절한 클래스 예측 확률을 출력할 수 있게 되는 것"
      ],
      "metadata": {
        "id": "imLiTzSMTzJ9"
      }
    },
    {
      "cell_type": "markdown",
      "source": [
        "> 파라미터 `Theta` (가중치) 확인"
      ],
      "metadata": {
        "id": "8hEgZeuDIQGq"
      }
    },
    {
      "cell_type": "markdown",
      "source": [
        "* 소프트맥스 회귀(다중 클래스 로지스틱 회귀)에서 Theta 행렬은 각 클래스별로 학습된 가중치(weight)들을 의미!!\n",
        "* 즉, 모델이 입력 데이터[꽃잎 길이, 꽃잎 넓이]를 보고 특정 클래스로 분류할 확률을 예측할 때 사용하는 **계수(가중치)**들"
      ],
      "metadata": {
        "id": "oNjkVXTYRt2b"
      }
    },
    {
      "cell_type": "code",
      "source": [
        "Theta\n",
        "\n",
        "# 각 클래스의 가중치를 담은 행렬"
      ],
      "metadata": {
        "colab": {
          "base_uri": "https://localhost:8080/"
        },
        "id": "ae_IW4xwIO60",
        "outputId": "19851669-5531-445b-a3b5-9dd2e8a7231d"
      },
      "execution_count": null,
      "outputs": [
        {
          "output_type": "execute_result",
          "data": {
            "text/plain": [
              "array([[ 2.29682691, -1.56851456, -2.93164073],\n",
              "       [ 0.44833187,  1.42718525,  0.42934737],\n",
              "       [-1.67739743,  0.01161009,  3.92539063]])"
            ]
          },
          "metadata": {},
          "execution_count": 60
        }
      ]
    },
    {
      "cell_type": "markdown",
      "source": [
        "* 행 개수(3개) → 3개의 클래스(붓꽃의 세 가지 품종)\n",
        "* 열 개수(3개) → 2개의 특성(꽃잎 길이, 꽃잎 넓이) + 1개의 편향(bias)\n",
        "> 즉, 각 행이 \"내가 이 클래스에 속할 가능성이 얼마나 되는지\"를 계산하는 식을 제공하는 것"
      ],
      "metadata": {
        "id": "rj-FIZzSR1ib"
      }
    },
    {
      "cell_type": "markdown",
      "source": [
        "검증 세트 체크"
      ],
      "metadata": {
        "id": "5ko6sYBrIf43"
      }
    },
    {
      "cell_type": "code",
      "source": [
        "logits = X_valid.dot(Theta) # 검증 세트 (X_valid)에 대해서 적용\n",
        "Y_proba = softmax(logits)\n",
        "y_predict = np.argmax(Y_proba, axis=1)\n",
        "\n",
        "accuracy_score = np.mean(y_predict == y_valid)\n",
        "accuracy_score"
      ],
      "metadata": {
        "colab": {
          "base_uri": "https://localhost:8080/"
        },
        "id": "o-lXcoPHIabG",
        "outputId": "e5a7f25e-26d1-4389-c679-e1d96b307036"
      },
      "execution_count": null,
      "outputs": [
        {
          "output_type": "execute_result",
          "data": {
            "text/plain": [
              "1.0"
            ]
          },
          "metadata": {},
          "execution_count": 65
        }
      ]
    },
    {
      "cell_type": "markdown",
      "source": [
        "## 4. 이제 조기종료만 추가해주면 되겠네..에효\n",
        "\n",
        "> 사이킷런에서는 '딸칵'으로 되지만 직접 연습해보는 과정에서 개념 이해\n",
        "\n",
        "근데 머리가 너무 아파서 GPT 도움 좀..."
      ],
      "metadata": {
        "id": "siDrYRJiIljL"
      }
    },
    {
      "cell_type": "code",
      "source": [
        "eta = 0.1\n",
        "n_iterations = 5001\n",
        "m = len(X_train)\n",
        "epsilon = 1e-7\n",
        "alpha = 0.1  # 규제 하이퍼파라미터\n",
        "best_loss = np.infty\n",
        "\n",
        "Theta = np.random.randn(n_inputs, n_outputs)\n",
        "\n",
        "for iteration in range(n_iterations):\n",
        "    logits = X_train.dot(Theta)\n",
        "    Y_proba = softmax(logits)\n",
        "    error = Y_proba - Y_train_one_hot\n",
        "    gradients = 1/m * X_train.T.dot(error) + np.r_[np.zeros([1, n_outputs]), alpha * Theta[1:]]\n",
        "    Theta = Theta - eta * gradients\n",
        "\n",
        "    logits = X_valid.dot(Theta)\n",
        "    Y_proba = softmax(logits)\n",
        "    xentropy_loss = -np.mean(np.sum(Y_valid_one_hot * np.log(Y_proba + epsilon), axis=1))\n",
        "    l2_loss = 1/2 * np.sum(np.square(Theta[1:]))\n",
        "    loss = xentropy_loss + alpha * l2_loss\n",
        "    if iteration % 500 == 0:\n",
        "        print(iteration, loss)\n",
        "    if loss < best_loss:\n",
        "        best_loss = loss\n",
        "    else:\n",
        "        print(iteration - 1, best_loss)\n",
        "        print(iteration, loss, \"조기 종료!\")\n",
        "        break"
      ],
      "metadata": {
        "colab": {
          "base_uri": "https://localhost:8080/"
        },
        "id": "AVcMRHVUIfTl",
        "outputId": "4a6de94b-53b8-439f-de8d-0ce515acffdd"
      },
      "execution_count": null,
      "outputs": [
        {
          "output_type": "stream",
          "name": "stdout",
          "text": [
            "0 5.999626000187875\n",
            "500 0.56576233101253\n",
            "1000 0.5359643293647358\n",
            "1500 0.5270671955675367\n",
            "2000 0.5236387857931382\n",
            "2500 0.5221837022869387\n",
            "3000 0.5215293137339516\n",
            "3500 0.5212216425858525\n",
            "4000 0.5210710150554994\n",
            "4500 0.5209942237138998\n",
            "5000 0.5209534096940153\n"
          ]
        }
      ]
    },
    {
      "cell_type": "code",
      "source": [
        "logits = X_valid.dot(Theta)\n",
        "Y_proba = softmax(logits)\n",
        "y_predict = np.argmax(Y_proba, axis=1)\n",
        "\n",
        "accuracy_score = np.mean(y_predict == y_valid)\n",
        "accuracy_score"
      ],
      "metadata": {
        "colab": {
          "base_uri": "https://localhost:8080/"
        },
        "id": "sDicnOcBIv1M",
        "outputId": "2a858d37-ab56-4a4d-8dab-3493c3f99ecd"
      },
      "execution_count": null,
      "outputs": [
        {
          "output_type": "execute_result",
          "data": {
            "text/plain": [
              "1.0"
            ]
          },
          "metadata": {},
          "execution_count": 63
        }
      ]
    },
    {
      "cell_type": "markdown",
      "source": [
        "검증은 여기까지, 이제 찐 테스트셋에 대해 최종 성능을 확인"
      ],
      "metadata": {
        "id": "03gvhoyWJGUH"
      }
    },
    {
      "cell_type": "code",
      "source": [
        "logits = X_test.dot(Theta)\n",
        "Y_proba = softmax(logits)\n",
        "y_predict = np.argmax(Y_proba, axis=1)\n",
        "\n",
        "accuracy_score = np.mean(y_predict == y_test)\n",
        "accuracy_score"
      ],
      "metadata": {
        "colab": {
          "base_uri": "https://localhost:8080/"
        },
        "id": "XhAGD-rpJFQI",
        "outputId": "9ae424d2-d593-4c82-a2db-9f71db3e04b3"
      },
      "execution_count": null,
      "outputs": [
        {
          "output_type": "execute_result",
          "data": {
            "text/plain": [
              "0.9666666666666667"
            ]
          },
          "metadata": {},
          "execution_count": 64
        }
      ]
    }
  ]
}